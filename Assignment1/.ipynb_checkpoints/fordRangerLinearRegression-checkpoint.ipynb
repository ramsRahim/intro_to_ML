{
 "cells": [
  {
   "cell_type": "code",
   "execution_count": 193,
   "id": "3dd1346a",
   "metadata": {},
   "outputs": [
    {
     "name": "stdout",
     "output_type": "stream",
     "text": [
      "     Year  minPrice  maxPrice\n",
      "0  1992.0    8730.0   14840.0\n",
      "1  1993.0    8781.0   16535.0\n",
      "2  1994.0    9449.0   18328.0\n",
      "3  1995.0   10224.0   19571.0\n",
      "4  1996.0   10575.0   20295.0\n"
     ]
    }
   ],
   "source": [
    "import numpy as np\n",
    "import matplotlib.pyplot as plt\n",
    "import csv\n",
    "import pandas as pd\n",
    "\n",
    "# Load data\n",
    "df = pd.read_csv('ford-prices.csv')\n",
    "df = df.replace({',': ''}, regex=True)\n",
    "df = df.astype(np.float64)\n",
    "print(df.head())"
   ]
  },
  {
   "cell_type": "code",
   "execution_count": 194,
   "id": "111fa81d",
   "metadata": {},
   "outputs": [],
   "source": [
    "# Split data into features (years) and labels (minimum prices and maximum prices)\n",
    "X = df.iloc[:,0].values.reshape(-1,1)\n",
    "y_min = df.iloc[:,1].values.reshape(-1,1)\n",
    "y_max = df.iloc[:,2].values.reshape(-1,1)\n"
   ]
  },
  {
   "cell_type": "code",
   "execution_count": 195,
   "id": "eb607462",
   "metadata": {},
   "outputs": [],
   "source": [
    "# Initialize theta\n",
    "theta_min = np.random.rand(2,1)\n",
    "theta_max = np.random.rand(2,1)"
   ]
  },
  {
   "cell_type": "code",
   "execution_count": 201,
   "id": "a42ef7c5",
   "metadata": {},
   "outputs": [],
   "source": [
    "# Define the hypothesis function\n",
    "def h(X, theta):\n",
    "    return np.dot(X, theta)\n"
   ]
  },
  {
   "cell_type": "code",
   "execution_count": 202,
   "id": "2c91c19a",
   "metadata": {},
   "outputs": [],
   "source": [
    "# Define the mean squared error loss function\n",
    "def MSE(y, y_hat):\n",
    "    return np.mean((y - y_hat)**2)"
   ]
  },
  {
   "cell_type": "code",
   "execution_count": 203,
   "id": "ac42a1b7",
   "metadata": {},
   "outputs": [],
   "source": [
    "def gradient_descent(X, y, theta, alpha, num_iters):\n",
    "    m = X.shape[0]\n",
    "    loss = np.zeros((num_iters, 1))\n",
    "    for i in range(num_iters):\n",
    "        y_hat = h(X, theta)\n",
    "        loss[i] = MSE(y, y_hat)\n",
    "        theta = theta + (alpha) * np.dot(X.T, y- y_hat)\n",
    "    return theta, loss"
   ]
  },
  {
   "cell_type": "code",
   "execution_count": 204,
   "id": "34d55097",
   "metadata": {},
   "outputs": [],
   "source": [
    "# Set hyperparameters\n",
    "alpha = 0.01\n",
    "num_iters = 100"
   ]
  },
  {
   "cell_type": "code",
   "execution_count": 205,
   "id": "e5d9f8fb",
   "metadata": {},
   "outputs": [
    {
     "name": "stderr",
     "output_type": "stream",
     "text": [
      "/var/folders/l6/vp973_952_j17ld7jjj33fg40000gn/T/ipykernel_75383/1190680217.py:3: RuntimeWarning: overflow encountered in square\n",
      "  return np.mean((y - y_hat)**2)\n",
      "/var/folders/l6/vp973_952_j17ld7jjj33fg40000gn/T/ipykernel_75383/1095169501.py:7: RuntimeWarning: invalid value encountered in add\n",
      "  theta = theta + (alpha) * np.dot(X.T, y- y_hat)\n"
     ]
    }
   ],
   "source": [
    "# Run gradient descent for minimum prices\n",
    "theta_min, loss_min = gradient_descent(np.hstack((np.ones((X.shape[0], 1)), X)), y_min, theta_min, alpha, num_iters)\n",
    "\n",
    "# Run gradient descent for maximum prices\n",
    "theta_max, loss_max = gradient_descent(np.hstack((np.ones((X.shape[0], 1)), X)), y_max, theta_max, alpha, num_iters)"
   ]
  },
  {
   "cell_type": "code",
   "execution_count": 206,
   "id": "82c932c3",
   "metadata": {},
   "outputs": [
    {
     "data": {
      "image/png": "[encoded data removed]",
      "text/plain": [
       "<Figure size 640x480 with 1 Axes>"
      ]
     },
     "metadata": {},
     "output_type": "display_data"
    }
   ],
   "source": [
    "# Plot the loss curve\n",
    "plt.plot(range(num_iters), loss_min, label='Minimum Price')\n",
    "plt.plot(range(num_iters), loss_max, label='Maximum Price')\n",
    "plt.xlabel('Iteration')\n",
    "plt.ylabel('Loss')\n",
    "plt.legend()\n",
    "plt.show()"
   ]
  },
  {
   "cell_type": "code",
   "execution_count": null,
   "id": "e0f2a34e",
   "metadata": {},
   "outputs": [],
   "source": []
  }
 ],
 "metadata": {
  "kernelspec": {
   "display_name": "Python 3 (ipykernel)",
   "language": "python",
   "name": "python3"
  },
  "language_info": {
   "codemirror_mode": {
    "name": "ipython",
    "version": 3
   },
   "file_extension": ".py",
   "mimetype": "text/x-python",
   "name": "python",
   "nbconvert_exporter": "python",
   "pygments_lexer": "ipython3",
   "version": "3.9.15"
  }
 },
 "nbformat": 4,
 "nbformat_minor": 5
}
