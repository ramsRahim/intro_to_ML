{
 "cells": [
  {
   "cell_type": "markdown",
   "id": "3199416b",
   "metadata": {},
   "source": [
    "# Part 1"
   ]
  },
  {
   "cell_type": "code",
   "execution_count": 2,
   "id": "62f6b8c7",
   "metadata": {},
   "outputs": [
    {
     "name": "stdout",
     "output_type": "stream",
     "text": [
      "Files already downloaded and verified\n",
      "Files already downloaded and verified\n",
      "Number of training samples: 50000\n",
      "Number of test samples: 10000\n"
     ]
    }
   ],
   "source": [
    "from sklearn.metrics import accuracy_score\n",
    "from torchvision import transforms, datasets\n",
    "import random, torch, os\n",
    "import numpy as np\n",
    "from torch.utils.data import DataLoader,Subset\n",
    "\n",
    "normalize = transforms.Normalize(mean=[0.485, 0.456, 0.406],\n",
    "                                     std=[0.229, 0.224, 0.225])\n",
    "\n",
    "transform = transforms.Compose([\n",
    "    transforms.RandomHorizontalFlip(),\n",
    "     transforms.RandomCrop(32, 4),\n",
    "    transforms.ToTensor(),\n",
    "    transforms.Normalize( \n",
    "       mean=[0.485, 0.456, 0.406],\n",
    "        std=[0.229, 0.224, 0.225] \n",
    "    )\n",
    "])\n",
    "\n",
    "train = datasets.CIFAR10(root='.', train=True, download=True,\n",
    "                          transform=transform)\n",
    "\n",
    "test = datasets.CIFAR10(root='.', train=False, download=True, \n",
    "                        transform =transforms.Compose([\n",
    "            transforms.ToTensor(),\n",
    "            normalize,\n",
    "        ]))\n",
    "\n",
    "print('Number of training samples:', len(train))\n",
    "print('Number of test samples:', len(test))"
   ]
  },
  {
   "cell_type": "markdown",
   "id": "f8a2119a",
   "metadata": {},
   "source": [
    "### 1. Use 3 Deep Learning Models to perform classification of CIFAR-10 dataset.\n",
    "### defining three models"
   ]
  },
  {
   "cell_type": "code",
   "execution_count": 3,
   "id": "ef4a825d",
   "metadata": {},
   "outputs": [],
   "source": [
    "from torch import nn\n",
    "from torchvision import models\n",
    "\n",
    "class ResNet18(nn.Module):\n",
    "    def __init__(self, num_classes=10, pretrained=True):\n",
    "        super(ResNet18, self).__init__()\n",
    "        \n",
    "        self.resnet = models.resnet18(pretrained=pretrained)\n",
    "        self.resnet.fc = nn.Linear(512, num_classes)          \n",
    "\n",
    "    def forward(self, x):\n",
    "        out = self.resnet(x)\n",
    "        return out\n",
    "\n",
    "class Vgg11(nn.Module):\n",
    "    def __init__(self, num_classes=10, pretrained=True):\n",
    "        super(Vgg11, self).__init__()\n",
    "        \n",
    "        vgg11 = models.vgg11(pretrained=pretrained)\n",
    "                  \n",
    "        self.feature_extractor = vgg11.features\n",
    "        self.classifier = nn.Linear(512, num_classes)\n",
    "                \n",
    "    def forward(self, x):\n",
    "        x = self.feature_extractor(x)\n",
    "        out = self.classifier(x.view(x.shape[0],-1))\n",
    "        return out\n",
    "\n",
    "class Vgg16(nn.Module):\n",
    "    def __init__(self, num_classes=10, pretrained=True):\n",
    "        super(Vgg16, self).__init__()\n",
    "        \n",
    "        vgg16 = models.vgg16(pretrained=pretrained)\n",
    "                  \n",
    "        self.feature_extractor = vgg16.features\n",
    "        self.classifier = nn.Linear(512, num_classes)\n",
    "                \n",
    "                \n",
    "    def forward(self, x):\n",
    "        x = self.feature_extractor(x)\n",
    "        out = self.classifier(x.view(x.shape[0],-1))\n",
    "        return out\n"
   ]
  },
  {
   "cell_type": "code",
   "execution_count": 4,
   "id": "0f3d81b7",
   "metadata": {},
   "outputs": [],
   "source": [
    "def getModel(model, pretrained=True):\n",
    "    if model == 'resnet18':\n",
    "        model = ResNet18(pretrained=pretrained)\n",
    "    elif model == 'vgg11':\n",
    "        model = Vgg11(pretrained=pretrained)\n",
    "    elif model == 'vgg16':\n",
    "        model = Vgg16(pretrained=pretrained)\n",
    "    return model "
   ]
  },
  {
   "cell_type": "code",
   "execution_count": 5,
   "id": "663234a5",
   "metadata": {},
   "outputs": [],
   "source": [
    "  \n",
    "class calc (object):\n",
    "    def __init__(self):\n",
    "        self.reset()\n",
    "\n",
    "    def reset(self):\n",
    "        self.val = 0\n",
    "        self.avg = 0\n",
    "        self.sum = 0\n",
    "        self.count = 0\n",
    "\n",
    "    def update(self, val, n=1):\n",
    "        self.val = val\n",
    "        self.sum += val * n\n",
    "        self.count += n\n",
    "        self.avg = self.sum / self.count"
   ]
  },
  {
   "cell_type": "markdown",
   "id": "d01b9d03",
   "metadata": {},
   "source": [
    "### 4. Split train data in 80:20 (Train: Validation) and perform 5-fold validation.\n",
    "### Training"
   ]
  },
  {
   "cell_type": "code",
   "execution_count": 6,
   "id": "5af04b59",
   "metadata": {},
   "outputs": [],
   "source": [
    "## writing the evaluation function\n",
    "@torch.no_grad()\n",
    "def evaluate(model, test, device, loss_func):\n",
    "    pred_labels = []\n",
    "    tgt_labels = []\n",
    "\n",
    "    model.eval()\n",
    "    loss_meter = calc()\n",
    "    for step, batch in enumerate(test):\n",
    "        img = batch[0].to(device)\n",
    "        tgt = batch[1].to(device)\n",
    "        # extracting predicted labels\n",
    "        pred = model(img)\n",
    "        loss = loss_func(pred, tgt)\n",
    "        loss_meter.update(loss.item())\n",
    "        pred_label = pred.argmax(1).cpu().numpy()\n",
    "        tgt_label = batch[1].numpy()\n",
    "        # appending predicted labels\n",
    "        pred_labels.append(pred_label)\n",
    "        tgt_labels.append(tgt_label)\n",
    "    pred_labels = np.concatenate(pred_labels)\n",
    "    tgt_labels = np.concatenate(tgt_labels)\n",
    "    acc = accuracy_score(pred_labels, tgt_labels)\n",
    "    return loss,acc"
   ]
  },
  {
   "cell_type": "code",
   "execution_count": 7,
   "id": "b2dcfe2e",
   "metadata": {},
   "outputs": [],
   "source": [
    "## hyper parameters for training\n",
    "lr = 0.001\n",
    "n_epochs = 10\n",
    "batch_size = 128 \n",
    "random.seed(43)\n",
    "np.random.seed(43)\n",
    "torch.manual_seed(43)\n",
    "torch.cuda.manual_seed_all(43)\n",
    "device = torch.device('cuda' if torch.cuda.is_available() else 'cpu')"
   ]
  },
  {
   "cell_type": "code",
   "execution_count": null,
   "id": "24f7f0cf",
   "metadata": {},
   "outputs": [],
   "source": [
    "from sklearn.model_selection import StratifiedKFold\n",
    "import time\n",
    "\n",
    "skf = StratifiedKFold(n_splits=5)\n",
    "\n",
    "\n",
    "for model_name in ['resnet18','vgg11', 'vgg16']:\n",
    "    model = getModel(model_name)\n",
    "    model.to(device)\n",
    "    folds = skf.split(list(range(len(train))), train.targets)\n",
    "    start = time.time()\n",
    "    \n",
    "    best_acc = 0\n",
    "    \n",
    "    for i, fold in enumerate(folds):\n",
    "        train_index, val_index = fold\n",
    "\n",
    "        train_split = Subset(train, train_index)\n",
    "        val_split = Subset(train, val_index)\n",
    "\n",
    "        train_data = DataLoader(train_split, batch_size=batch_size, \n",
    "                              shuffle=True, num_workers=4)\n",
    "        valid_data = DataLoader(val_split, batch_size=batch_size, \n",
    "                              shuffle=False, num_workers=4)\n",
    "\n",
    "        optimizer = torch.optim.Adam(model.parameters(), lr=lr)\n",
    "\n",
    "        loss_func = nn.CrossEntropyLoss()\n",
    "\n",
    "        train_losses = []\n",
    "        train_accs = []\n",
    "        valid_losses = []\n",
    "        valid_accs = []\n",
    "        \n",
    "        for epoch_i in range(n_epochs):         \n",
    "            loss_meter = calc()\n",
    "            acc_meter = calc()\n",
    "            \n",
    "            model.train() \n",
    "            \n",
    "            for step, batch in enumerate(train_data):\n",
    "                img = batch[0].to(device)\n",
    "                tgt = batch[1].to(device)\n",
    "                        \n",
    "                pred = model(img)\n",
    "                loss = loss_func(pred, tgt)\n",
    "                \n",
    "                optimizer.zero_grad()\n",
    "                loss.backward()\n",
    "                optimizer.step()\n",
    "                \n",
    "                pred_label = pred.argmax(1).cpu().numpy()\n",
    "                tgt_label = batch[1].numpy()\n",
    "                \n",
    "                acc = accuracy_score(pred_label, tgt_label)\n",
    "                \n",
    "                loss_meter.update(loss.item())\n",
    "                acc_meter.update(acc)\n",
    " \n",
    "\n",
    "            train_losses.append(loss_meter.avg)\n",
    "            train_accs.append(acc_meter.avg)\n",
    "            print(f\"epoch:{epoch_i} train loss:{loss_meter.avg} train accuracy:{100 * acc_meter.avg} model:{model_name} fold:{i+1}\")\n",
    "\n",
    "        ## Evaluating the model\n",
    "        val_loss,val_acc = evaluate(model, valid_data, device, loss_func)\n",
    "        print(f\"The validation accuracy:{val_acc}\")\n",
    "        valid_losses.append(val_loss)\n",
    "        valid_accs.append(val_acc)\n",
    "\n",
    "        if val_acc > best_acc:\n",
    "            os.makedirs(f'models/fold_{i+1}', exist_ok=True)\n",
    "            torch.save(model.state_dict(), f'models/fold_{i+1}/{model_name}.pth')\n",
    "            best_acc = val_acc\n",
    "            best_fold = i+1\n",
    "    stop = time.time()      \n",
    "    print(f'best validation accuracy of {model_name} for fold {best_fold},training time: {stop-start}, best accuracy:{100*best_acc}')"
   ]
  },
  {
   "cell_type": "markdown",
   "id": "64501be1",
   "metadata": {},
   "source": [
    "### 5. Report the Training Time, model size and training accuracy for all 3 models."
   ]
  },
  {
   "cell_type": "markdown",
   "id": "f2c73e53",
   "metadata": {},
   "source": [
    "### Resnet18 Model\n",
    "Model: Resnet18\\\n",
    "Best fold: 5\\\n",
    "Training time: 153.99 sec\\\n",
    "Training accuracy: 93.6%\\\n",
    "model size: 44.8 MB\\\n",
    "validation accuracy: 90.99%"
   ]
  },
  {
   "cell_type": "code",
   "execution_count": 9,
   "id": "cf56d7b0",
   "metadata": {},
   "outputs": [
    {
     "name": "stderr",
     "output_type": "stream",
     "text": [
      "/home/rhossain/miniconda3/lib/python3.9/site-packages/torchvision/models/_utils.py:208: UserWarning: The parameter 'pretrained' is deprecated since 0.13 and may be removed in the future, please use 'weights' instead.\n",
      "  warnings.warn(\n",
      "/home/rhossain/miniconda3/lib/python3.9/site-packages/torchvision/models/_utils.py:223: UserWarning: Arguments other than a weight enum or `None` for 'weights' are deprecated since 0.13 and may be removed in the future. The current behavior is equivalent to passing `weights=ResNet18_Weights.IMAGENET1K_V1`. You can also use `weights=ResNet18_Weights.DEFAULT` to get the most up-to-date weights.\n",
      "  warnings.warn(msg)\n"
     ]
    },
    {
     "name": "stdout",
     "output_type": "stream",
     "text": [
      "test accuracy of best resnet50: 85.15\n"
     ]
    }
   ],
   "source": [
    "model = getModel('resnet18')\n",
    "\n",
    "test_data = DataLoader(test, batch_size=batch_size, \n",
    "                     shuffle=False, num_workers=4)\n",
    "\n",
    "# load model\n",
    "model.load_state_dict(torch.load(f'models/fold_5/resnet18.pth'))\n",
    "model.to(device)\n",
    "\n",
    "## Evaluating the model\n",
    "loss_func = nn.CrossEntropyLoss()\n",
    "loss,test_acc = evaluate(model, test_data, device, loss_func)  \n",
    "print('test accuracy of best resnet50:', test_acc * 100)"
   ]
  },
  {
   "cell_type": "markdown",
   "id": "d5396ab2",
   "metadata": {},
   "source": [
    "### VGG11 Model\n",
    "Model: vgg11\\\n",
    "Best fold: 5\\\n",
    "Training time: 165.57 sec\\\n",
    "Training accuracy: 96.15%\\\n",
    "model size: 36.9 MB\\\n",
    "validation accuracy: 94.14%"
   ]
  },
  {
   "cell_type": "code",
   "execution_count": 10,
   "id": "49d7cb4c",
   "metadata": {},
   "outputs": [
    {
     "name": "stderr",
     "output_type": "stream",
     "text": [
      "/home/rhossain/miniconda3/lib/python3.9/site-packages/torchvision/models/_utils.py:208: UserWarning: The parameter 'pretrained' is deprecated since 0.13 and may be removed in the future, please use 'weights' instead.\n",
      "  warnings.warn(\n",
      "/home/rhossain/miniconda3/lib/python3.9/site-packages/torchvision/models/_utils.py:223: UserWarning: Arguments other than a weight enum or `None` for 'weights' are deprecated since 0.13 and may be removed in the future. The current behavior is equivalent to passing `weights=VGG11_Weights.IMAGENET1K_V1`. You can also use `weights=VGG11_Weights.DEFAULT` to get the most up-to-date weights.\n",
      "  warnings.warn(msg)\n"
     ]
    },
    {
     "name": "stdout",
     "output_type": "stream",
     "text": [
      "test accuracy of best vgg11: 87.58\n"
     ]
    }
   ],
   "source": [
    "model = getModel('vgg11')\n",
    "\n",
    "test_data = DataLoader(test, batch_size=batch_size, \n",
    "                     shuffle=False, num_workers=4)\n",
    "\n",
    "# load model\n",
    "model.load_state_dict(torch.load(f'models/fold_5/vgg11.pth'))\n",
    "model.to(device)\n",
    "\n",
    "## Evaluating the model\n",
    "loss_func = nn.CrossEntropyLoss()\n",
    "loss,test_acc = evaluate(model, test_data, device, loss_func) \n",
    "print('test accuracy of best vgg11:', test_acc * 100)"
   ]
  },
  {
   "cell_type": "markdown",
   "id": "21e7af39",
   "metadata": {},
   "source": [
    "### VGG16 Model\n",
    "Model: vgg16\\\n",
    "Best fold: 4\\\n",
    "Training time: 263.26 sec\\\n",
    "Training accuracy: 90.03%\\\n",
    "model size: 58.9 MB\\\n",
    "validation accuracy: 92.87%"
   ]
  },
  {
   "cell_type": "code",
   "execution_count": 12,
   "id": "5cdcd0cf",
   "metadata": {},
   "outputs": [
    {
     "name": "stdout",
     "output_type": "stream",
     "text": [
      "test accuracy of best vgg16: 89.1\n"
     ]
    }
   ],
   "source": [
    "model = getModel('vgg16')\n",
    "\n",
    "test_data = DataLoader(test, batch_size=batch_size, \n",
    "                     shuffle=False, num_workers=4)\n",
    "\n",
    "# load model\n",
    "model.load_state_dict(torch.load(f'models/fold_4/vgg16.pth'))\n",
    "model.to(device)\n",
    "\n",
    "## Evaluating the model\n",
    "loss_func = nn.CrossEntropyLoss()\n",
    "loss,test_acc = evaluate(model, test_data, device, loss_func) \n",
    "print('test accuracy of best vgg16:', test_acc * 100)"
   ]
  },
  {
   "cell_type": "markdown",
   "id": "0ab4d83b",
   "metadata": {},
   "source": [
    "### 6. Select 1 best model out of these 3 and report test accuracy as well as draw confusion matrix."
   ]
  },
  {
   "cell_type": "markdown",
   "id": "59586941",
   "metadata": {},
   "source": [
    "### Best Model is VGG16 fold 4"
   ]
  },
  {
   "cell_type": "markdown",
   "id": "bdeb09e9",
   "metadata": {},
   "source": [
    "### confusion maatrix for the best model"
   ]
  },
  {
   "cell_type": "code",
   "execution_count": 13,
   "id": "8f106bbb",
   "metadata": {},
   "outputs": [
    {
     "name": "stderr",
     "output_type": "stream",
     "text": [
      "/home/rhossain/miniconda3/lib/python3.9/site-packages/torchvision/models/_utils.py:208: UserWarning: The parameter 'pretrained' is deprecated since 0.13 and may be removed in the future, please use 'weights' instead.\n",
      "  warnings.warn(\n",
      "/home/rhossain/miniconda3/lib/python3.9/site-packages/torchvision/models/_utils.py:223: UserWarning: Arguments other than a weight enum or `None` for 'weights' are deprecated since 0.13 and may be removed in the future. The current behavior is equivalent to passing `weights=VGG16_Weights.IMAGENET1K_V1`. You can also use `weights=VGG16_Weights.DEFAULT` to get the most up-to-date weights.\n",
      "  warnings.warn(msg)\n"
     ]
    },
    {
     "data": {
      "image/png": "[encoded data removed]",
      "text/plain": [
       "<Figure size 800x800 with 2 Axes>"
      ]
     },
     "metadata": {},
     "output_type": "display_data"
    }
   ],
   "source": [
    "from sklearn.metrics import confusion_matrix\n",
    "from matplotlib import pyplot as plt\n",
    "from sklearn.metrics import ConfusionMatrixDisplay\n",
    "\n",
    "\n",
    "device = torch.device('cuda')\n",
    "loss_func = nn.CrossEntropyLoss()\n",
    "\n",
    "# load model\n",
    "model = getModel('vgg16')\n",
    "model.load_state_dict(torch.load(f'models/fold_4/vgg16.pth'))\n",
    "model.to(device)\n",
    "\n",
    "test_data = DataLoader(test, batch_size=batch_size, \n",
    "                     shuffle=False, num_workers=4)\n",
    "\n",
    "# test model\n",
    "pred_labels = []\n",
    "tgt_labels = []\n",
    "\n",
    "model.eval()\n",
    "loss_meter = calc()\n",
    "for step, batch in enumerate(test_data):\n",
    "    img = batch[0].to(device)\n",
    "    tgt = batch[1].to(device)\n",
    "\n",
    "    pred = model(img)\n",
    "\n",
    "    loss = loss_func(pred, tgt)\n",
    "    loss_meter.update(loss.item())\n",
    "\n",
    "    pred_label = pred.argmax(1).cpu().numpy()\n",
    "    tgt_label = batch[1].numpy()\n",
    "\n",
    "    pred_labels.append(pred_label)\n",
    "    tgt_labels.append(tgt_label)\n",
    "\n",
    "pred_labels = np.concatenate(pred_labels)\n",
    "tgt_labels = np.concatenate(tgt_labels)\n",
    "acc = accuracy_score(pred_labels, tgt_labels)\n",
    "                                                            \n",
    "class_names = [\"airplane\",\"automobile\",\"bird\",\"cat\",\"deer\",\"dog\",\"frog\",\"horse\",\"ship\",\"truck\"]\n",
    "\n",
    "disp = ConfusionMatrixDisplay.from_predictions(\n",
    "        tgt_labels,\n",
    "        pred_labels,\n",
    "        display_labels=class_names,\n",
    "        cmap=plt.cm.Blues,\n",
    "        normalize='true',\n",
    "    )\n",
    "        \n",
    "fig = disp.ax_.get_figure() \n",
    "fig.set_figwidth(8)\n",
    "fig.set_figheight(8)  "
   ]
  },
  {
   "cell_type": "markdown",
   "id": "2a30125b",
   "metadata": {},
   "source": [
    "# part 2\n",
    "\n",
    "## Hypothesis test"
   ]
  },
  {
   "cell_type": "markdown",
   "id": "39fcab66",
   "metadata": {},
   "source": [
    "## Hypothesis 1\n",
    "\n",
    "### increasing the model size/complexity in general imroves the performance\n",
    "### but it also depends on the size of dataset"
   ]
  },
  {
   "cell_type": "code",
   "execution_count": 14,
   "id": "ad5b8d4d",
   "metadata": {},
   "outputs": [],
   "source": [
    "# defining train and test function for all the hypothesis testing\n",
    "def train_and_test(train, valid, test, lr=0.001,\n",
    "                   n_epochs=20, batch_size=64, model_name='vgg16', \n",
    "                   fold=1, pretrained=True):\n",
    "        \n",
    "    random.seed(43)\n",
    "    np.random.seed(43)\n",
    "    torch.manual_seed(43)\n",
    "    torch.cuda.manual_seed_all(43)\n",
    "  \n",
    "    device = torch.device('cuda' if torch.cuda.is_available() else 'cpu')\n",
    "    \n",
    "    model = getModel(model_name, pretrained)\n",
    "    model.to(device)\n",
    "    \n",
    "    \n",
    "    optimizer = torch.optim.Adam(model.parameters(), lr=lr)\n",
    "    \n",
    "    loss_func = nn.CrossEntropyLoss()\n",
    "    best_acc = 0\n",
    "    \n",
    "    train_losses = []\n",
    "    train_accs = []\n",
    "    valid_losses = []\n",
    "    valid_accs = []\n",
    "\n",
    "    \n",
    "    for epoch_i in range(n_epochs):         \n",
    "        loss_meter = calc()\n",
    "        acc_meter = calc()\n",
    "        \n",
    "        model.train() \n",
    "        \n",
    "        for step, batch in enumerate(train):\n",
    "            img = batch[0].to(device)\n",
    "            tgt = batch[1].to(device)\n",
    "                  \n",
    "            pred = model(img)\n",
    "            loss = loss_func(pred, tgt)\n",
    "            \n",
    "            optimizer.zero_grad()\n",
    "            loss.backward()\n",
    "            optimizer.step()\n",
    "            \n",
    "            pred_label = pred.argmax(1).cpu().numpy()\n",
    "            tgt_label = batch[1].numpy()\n",
    "            \n",
    "            acc = accuracy_score(pred_label, tgt_label)\n",
    "            \n",
    "            loss_meter.update(loss.item())\n",
    "            acc_meter.update(acc)\n",
    "            \n",
    "            #print(f'train loss: {loss_meter.avg}, train accuracy:{100 * acc_meter.avg}')\n",
    "        \n",
    "        valid_loss, valid_acc = evaluate(model, valid, device, loss_func)   \n",
    "    \n",
    "        train_losses.append(loss_meter.avg)\n",
    "        train_accs.append(acc_meter.avg)\n",
    "      \n",
    "        valid_losses.append(valid_loss)\n",
    "        valid_accs.append(valid_acc)\n",
    "\n",
    "        if valid_acc > best_acc:\n",
    "            os.makedirs(f'models/fold_{fold}', exist_ok=True)\n",
    "            torch.save(model.state_dict(), f'models/fold_{fold}/{model_name}_hypothesisTest.pth')\n",
    "            best_acc = valid_acc\n",
    "            \n",
    "    # load model\n",
    "    model.load_state_dict(torch.load(f'models/fold_{fold}/{model_name}_hypothesisTest.pth'))\n",
    "    \n",
    "    # test model\n",
    "    test_loss, test_acc = evaluate(model, test, device, loss_func)   \n",
    "\n",
    "    return 100 * test_acc\n"
   ]
  },
  {
   "cell_type": "markdown",
   "id": "f4ffa43e",
   "metadata": {},
   "source": [
    "## Hypothesis-2 \n",
    "\n",
    "### Batch size [64,32,16] are tested\n"
   ]
  },
  {
   "cell_type": "code",
   "execution_count": 16,
   "id": "11fbe06e",
   "metadata": {},
   "outputs": [
    {
     "name": "stderr",
     "output_type": "stream",
     "text": [
      "/home/rhossain/miniconda3/lib/python3.9/site-packages/torchvision/models/_utils.py:208: UserWarning: The parameter 'pretrained' is deprecated since 0.13 and may be removed in the future, please use 'weights' instead.\n",
      "  warnings.warn(\n",
      "/home/rhossain/miniconda3/lib/python3.9/site-packages/torchvision/models/_utils.py:223: UserWarning: Arguments other than a weight enum or `None` for 'weights' are deprecated since 0.13 and may be removed in the future. The current behavior is equivalent to passing `weights=VGG16_Weights.IMAGENET1K_V1`. You can also use `weights=VGG16_Weights.DEFAULT` to get the most up-to-date weights.\n",
      "  warnings.warn(msg)\n"
     ]
    },
    {
     "name": "stdout",
     "output_type": "stream",
     "text": [
      "best test accuracy of vgg16 for batch size 16: 79.51\n"
     ]
    },
    {
     "name": "stderr",
     "output_type": "stream",
     "text": [
      "/home/rhossain/miniconda3/lib/python3.9/site-packages/torchvision/models/_utils.py:208: UserWarning: The parameter 'pretrained' is deprecated since 0.13 and may be removed in the future, please use 'weights' instead.\n",
      "  warnings.warn(\n",
      "/home/rhossain/miniconda3/lib/python3.9/site-packages/torchvision/models/_utils.py:223: UserWarning: Arguments other than a weight enum or `None` for 'weights' are deprecated since 0.13 and may be removed in the future. The current behavior is equivalent to passing `weights=VGG16_Weights.IMAGENET1K_V1`. You can also use `weights=VGG16_Weights.DEFAULT` to get the most up-to-date weights.\n",
      "  warnings.warn(msg)\n"
     ]
    },
    {
     "name": "stdout",
     "output_type": "stream",
     "text": [
      "best test accuracy of vgg16 for batch size 32: 83.38\n"
     ]
    },
    {
     "name": "stderr",
     "output_type": "stream",
     "text": [
      "/home/rhossain/miniconda3/lib/python3.9/site-packages/torchvision/models/_utils.py:208: UserWarning: The parameter 'pretrained' is deprecated since 0.13 and may be removed in the future, please use 'weights' instead.\n",
      "  warnings.warn(\n",
      "/home/rhossain/miniconda3/lib/python3.9/site-packages/torchvision/models/_utils.py:223: UserWarning: Arguments other than a weight enum or `None` for 'weights' are deprecated since 0.13 and may be removed in the future. The current behavior is equivalent to passing `weights=VGG16_Weights.IMAGENET1K_V1`. You can also use `weights=VGG16_Weights.DEFAULT` to get the most up-to-date weights.\n",
      "  warnings.warn(msg)\n"
     ]
    },
    {
     "name": "stdout",
     "output_type": "stream",
     "text": [
      "best test accuracy of vgg16 for batch size 64: 85.41\n"
     ]
    }
   ],
   "source": [
    "model_name = 'vgg16'\n",
    "best_fold = 4\n",
    "\n",
    "lr = 0.001\n",
    "n_epochs = 20\n",
    "\n",
    "for batch_size in [16, 32, 64]:\n",
    "    skf = StratifiedKFold(n_splits=5)\n",
    "\n",
    "    # split data into 5 folds\n",
    "    folds = skf.split(list(range(len(train))), train.targets)\n",
    "\n",
    "    for i, fold in enumerate(folds):\n",
    "\n",
    "        if (i + 1) != best_fold:\n",
    "            continue\n",
    "\n",
    "        train_index, val_index = fold\n",
    "\n",
    "        train_split = Subset(train, train_index)\n",
    "        val_split = Subset(train, val_index)\n",
    "\n",
    "        train_data = DataLoader(train_split, batch_size=batch_size, \n",
    "                              shuffle=True, num_workers=4)\n",
    "        valid_data = DataLoader(val_split, batch_size=batch_size, \n",
    "                              shuffle=False, num_workers=4)\n",
    "\n",
    "        test_data = DataLoader(test, batch_size=batch_size, \n",
    "                              shuffle=False, num_workers=4)\n",
    "\n",
    "        best_test_acc = train_and_test(train_data, valid_data, test_data, \n",
    "                                       lr, n_epochs, batch_size, model_name, i+1)\n",
    "\n",
    "        print(f'best test accuracy of {model_name} for batch size {batch_size}: {best_test_acc:.2f}')"
   ]
  },
  {
   "cell_type": "markdown",
   "id": "8e52e055",
   "metadata": {},
   "source": [
    "### If we decrease the batchsize the accuracy suffers as we can see from the above experiment"
   ]
  },
  {
   "cell_type": "markdown",
   "id": "e7521325",
   "metadata": {},
   "source": [
    "## Hypothesis-3 \n",
    "\n",
    "### Training dataset size [10k, 20k, 40k] are tested\n"
   ]
  },
  {
   "cell_type": "code",
   "execution_count": 22,
   "id": "9243abc2",
   "metadata": {},
   "outputs": [
    {
     "name": "stderr",
     "output_type": "stream",
     "text": [
      "/home/rhossain/miniconda3/lib/python3.9/site-packages/torchvision/models/_utils.py:208: UserWarning: The parameter 'pretrained' is deprecated since 0.13 and may be removed in the future, please use 'weights' instead.\n",
      "  warnings.warn(\n",
      "/home/rhossain/miniconda3/lib/python3.9/site-packages/torchvision/models/_utils.py:223: UserWarning: Arguments other than a weight enum or `None` for 'weights' are deprecated since 0.13 and may be removed in the future. The current behavior is equivalent to passing `weights=VGG16_Weights.IMAGENET1K_V1`. You can also use `weights=VGG16_Weights.DEFAULT` to get the most up-to-date weights.\n",
      "  warnings.warn(msg)\n"
     ]
    },
    {
     "name": "stdout",
     "output_type": "stream",
     "text": [
      "best test accuracy of vgg16 for sample size 10000: 76.86\n"
     ]
    },
    {
     "name": "stderr",
     "output_type": "stream",
     "text": [
      "/home/rhossain/miniconda3/lib/python3.9/site-packages/torchvision/models/_utils.py:208: UserWarning: The parameter 'pretrained' is deprecated since 0.13 and may be removed in the future, please use 'weights' instead.\n",
      "  warnings.warn(\n",
      "/home/rhossain/miniconda3/lib/python3.9/site-packages/torchvision/models/_utils.py:223: UserWarning: Arguments other than a weight enum or `None` for 'weights' are deprecated since 0.13 and may be removed in the future. The current behavior is equivalent to passing `weights=VGG16_Weights.IMAGENET1K_V1`. You can also use `weights=VGG16_Weights.DEFAULT` to get the most up-to-date weights.\n",
      "  warnings.warn(msg)\n"
     ]
    },
    {
     "name": "stdout",
     "output_type": "stream",
     "text": [
      "best test accuracy of vgg16 for sample size 20000: 83.50\n"
     ]
    },
    {
     "name": "stderr",
     "output_type": "stream",
     "text": [
      "/home/rhossain/miniconda3/lib/python3.9/site-packages/torchvision/models/_utils.py:208: UserWarning: The parameter 'pretrained' is deprecated since 0.13 and may be removed in the future, please use 'weights' instead.\n",
      "  warnings.warn(\n",
      "/home/rhossain/miniconda3/lib/python3.9/site-packages/torchvision/models/_utils.py:223: UserWarning: Arguments other than a weight enum or `None` for 'weights' are deprecated since 0.13 and may be removed in the future. The current behavior is equivalent to passing `weights=VGG16_Weights.IMAGENET1K_V1`. You can also use `weights=VGG16_Weights.DEFAULT` to get the most up-to-date weights.\n",
      "  warnings.warn(msg)\n"
     ]
    },
    {
     "name": "stdout",
     "output_type": "stream",
     "text": [
      "best test accuracy of vgg16 for sample size 40000: 86.32\n"
     ]
    }
   ],
   "source": [
    "model_name = 'vgg16'\n",
    "best_fold = 4\n",
    "\n",
    "lr = 0.001\n",
    "n_epochs = 20\n",
    "batch_size = 128\n",
    "\n",
    "for sample_size in [10000, 20000, 40000]:\n",
    "    skf = StratifiedKFold(n_splits=5)\n",
    "\n",
    "    # split data into 5 folds\n",
    "    folds = skf.split(list(range(len(train))), train.targets)\n",
    "\n",
    "    for i, fold in enumerate(folds):\n",
    "\n",
    "        if (i + 1) != best_fold:\n",
    "            continue\n",
    "\n",
    "        train_index, val_index = fold\n",
    "\n",
    "        train_split = Subset(train, train_index[:sample_size])\n",
    "        val_split = Subset(train, val_index)\n",
    "\n",
    "        train_data = DataLoader(train_split, batch_size=batch_size, \n",
    "                              shuffle=True, num_workers=4)\n",
    "        valid_data = DataLoader(val_split, batch_size=batch_size, \n",
    "                              shuffle=False, num_workers=4)\n",
    "\n",
    "        test_data = DataLoader(test, batch_size=batch_size, \n",
    "                              shuffle=False, num_workers=4)\n",
    "\n",
    "        best_test_acc = train_and_test(train_data, valid_data, test_data, lr, n_epochs, batch_size, model_name, i+1)\n",
    "\n",
    "        print(f'best test accuracy of {model_name} for sample size {sample_size}: {best_test_acc:.2f}')"
   ]
  },
  {
   "cell_type": "markdown",
   "id": "8556176e",
   "metadata": {},
   "source": [
    "### The more sample size we have the more accuracy we get"
   ]
  },
  {
   "cell_type": "markdown",
   "id": "457da3e2",
   "metadata": {},
   "source": [
    "## Hypothesis-4\n",
    "### Model is trained with and without loading pretrained weight "
   ]
  },
  {
   "cell_type": "code",
   "execution_count": 21,
   "id": "23d1f23c",
   "metadata": {},
   "outputs": [
    {
     "name": "stderr",
     "output_type": "stream",
     "text": [
      "/home/rhossain/miniconda3/lib/python3.9/site-packages/torchvision/models/_utils.py:208: UserWarning: The parameter 'pretrained' is deprecated since 0.13 and may be removed in the future, please use 'weights' instead.\n",
      "  warnings.warn(\n",
      "/home/rhossain/miniconda3/lib/python3.9/site-packages/torchvision/models/_utils.py:223: UserWarning: Arguments other than a weight enum or `None` for 'weights' are deprecated since 0.13 and may be removed in the future. The current behavior is equivalent to passing `weights=None`.\n",
      "  warnings.warn(msg)\n"
     ]
    },
    {
     "name": "stdout",
     "output_type": "stream",
     "text": [
      "best test accuracy of vgg11 without transfer learning: 82.39\n"
     ]
    },
    {
     "name": "stderr",
     "output_type": "stream",
     "text": [
      "/home/rhossain/miniconda3/lib/python3.9/site-packages/torchvision/models/_utils.py:208: UserWarning: The parameter 'pretrained' is deprecated since 0.13 and may be removed in the future, please use 'weights' instead.\n",
      "  warnings.warn(\n",
      "/home/rhossain/miniconda3/lib/python3.9/site-packages/torchvision/models/_utils.py:223: UserWarning: Arguments other than a weight enum or `None` for 'weights' are deprecated since 0.13 and may be removed in the future. The current behavior is equivalent to passing `weights=VGG11_Weights.IMAGENET1K_V1`. You can also use `weights=VGG11_Weights.DEFAULT` to get the most up-to-date weights.\n",
      "  warnings.warn(msg)\n"
     ]
    },
    {
     "name": "stdout",
     "output_type": "stream",
     "text": [
      "best test accuracy of vgg11 with transfer learning: 86.93\n"
     ]
    }
   ],
   "source": [
    "model_name= 'vgg16'\n",
    "best_fold = 4\n",
    "\n",
    "lr = 0.001\n",
    "n_epochs = 20\n",
    "batch_size = 128\n",
    "\n",
    "for pretrained in [False, True]:\n",
    "    skf = StratifiedKFold(n_splits=5)\n",
    "\n",
    "    # split data into 5 folds\n",
    "    folds = skf.split(list(range(len(train))), train.targets)\n",
    "\n",
    "    for i, fold in enumerate(folds):\n",
    "\n",
    "        if (i + 1) != best_fold:\n",
    "            continue\n",
    "\n",
    "        train_index, val_index = fold\n",
    "\n",
    "        train_split = Subset(train, train_index)\n",
    "        val_split = Subset(train, val_index)\n",
    "\n",
    "        train_data = DataLoader(train_split, batch_size=batch_size, \n",
    "                              shuffle=True, num_workers=4)\n",
    "        valid_data = DataLoader(val_split, batch_size=batch_size, \n",
    "                              shuffle=False, num_workers=4)\n",
    "\n",
    "        test_data = DataLoader(test, batch_size=batch_size, \n",
    "                              shuffle=False, num_workers=4)\n",
    "\n",
    "        best_test_acc = train_and_test(train_data, valid_data, test_data, lr, n_epochs, \n",
    "                                       batch_size, model_name, i+1, pretrained)\n",
    "        \n",
    "        stmt = \"with\" if pretrained else \"without\"\n",
    "        print(f'best test accuracy of {model_name} {stmt} transfer learning: {best_test_acc:.2f}')"
   ]
  },
  {
   "cell_type": "markdown",
   "id": "0216d061",
   "metadata": {},
   "source": [
    "### As we can see from the above experiments transfer learning gives us much better result"
   ]
  },
  {
   "cell_type": "markdown",
   "id": "9b0604cc",
   "metadata": {},
   "source": [
    "## Hypothesis-5\n",
    "### effect of regularization, tested for factors = [.00005,.0005,.005]"
   ]
  },
  {
   "cell_type": "code",
   "execution_count": 29,
   "id": "15c007d3",
   "metadata": {},
   "outputs": [
    {
     "name": "stderr",
     "output_type": "stream",
     "text": [
      "/home/rhossain/miniconda3/lib/python3.9/site-packages/torchvision/models/_utils.py:208: UserWarning: The parameter 'pretrained' is deprecated since 0.13 and may be removed in the future, please use 'weights' instead.\n",
      "  warnings.warn(\n",
      "/home/rhossain/miniconda3/lib/python3.9/site-packages/torchvision/models/_utils.py:223: UserWarning: Arguments other than a weight enum or `None` for 'weights' are deprecated since 0.13 and may be removed in the future. The current behavior is equivalent to passing `weights=VGG16_Weights.IMAGENET1K_V1`. You can also use `weights=VGG16_Weights.DEFAULT` to get the most up-to-date weights.\n",
      "  warnings.warn(msg)\n"
     ]
    },
    {
     "name": "stdout",
     "output_type": "stream",
     "text": [
      "best test accuracy of vgg16 for factor :5e-05 is :85.86\n",
      "best test accuracy of vgg16 for factor :0.0005 is :87.23\n",
      "best test accuracy of vgg16 for factor :0.005 is :82.90\n"
     ]
    }
   ],
   "source": [
    "model_name= 'vgg16'\n",
    "best_fold = 4\n",
    "\n",
    "lr = 0.001\n",
    "n_epochs = 20\n",
    "batch_size = 128\n",
    "\n",
    "random.seed(43)\n",
    "np.random.seed(43)\n",
    "torch.manual_seed(43)\n",
    "torch.cuda.manual_seed_all(43)\n",
    "\n",
    "device = torch.device('cuda' if torch.cuda.is_available() else 'cpu')\n",
    "\n",
    "model = getModel(model_name, pretrained)\n",
    "model.to(device)\n",
    "\n",
    "\n",
    "\n",
    "\n",
    "loss_func = nn.CrossEntropyLoss()\n",
    "\n",
    "factors = [.00005,.0005,.005]\n",
    "\n",
    "for factor in factors:\n",
    "    optimizer = torch.optim.Adam(model.parameters(), lr=lr, weight_decay=factor)\n",
    "    train_losses = []\n",
    "    train_accs = []\n",
    "    \n",
    "    folds = skf.split(list(range(len(train))), train.targets)\n",
    "\n",
    "    for i, fold in enumerate(folds):\n",
    "\n",
    "        if (i + 1) != best_fold:\n",
    "            continue\n",
    "\n",
    "        train_index, val_index = fold\n",
    "\n",
    "        train_split = Subset(train, train_index)\n",
    "        val_split = Subset(train, val_index)\n",
    "\n",
    "        train_data = DataLoader(train_split, batch_size=batch_size, \n",
    "                              shuffle=True, num_workers=4)\n",
    "\n",
    "        test_data = DataLoader(test, batch_size=batch_size, \n",
    "                              shuffle=False, num_workers=4)\n",
    "        \n",
    "        for epoch_i in range(n_epochs):         \n",
    "                loss_meter = calc()\n",
    "                acc_meter = calc()\n",
    "\n",
    "                model.train() \n",
    "\n",
    "                for step, batch in enumerate(train_data):\n",
    "                    img = batch[0].to(device)\n",
    "                    tgt = batch[1].to(device)\n",
    "\n",
    "                    pred = model(img)\n",
    "                    loss = loss_func(pred, tgt)\n",
    "\n",
    "\n",
    "                    optimizer.zero_grad()\n",
    "                    loss.backward()\n",
    "                    optimizer.step()\n",
    "\n",
    "                    pred_label = pred.argmax(1).cpu().numpy()\n",
    "                    tgt_label = batch[1].numpy()\n",
    "\n",
    "                    acc = accuracy_score(pred_label, tgt_label)\n",
    "                    loss_meter.update(loss.item())\n",
    "                    acc_meter.update(acc)   \n",
    "                train_losses.append(loss_meter.avg)\n",
    "                train_accs.append(acc_meter.avg)\n",
    "    loss, acc = evaluate(model, test_data, device, loss_func)\n",
    "    print(f'best test accuracy of {model_name} for factor :{factor} is :{acc*100:.2f}')"
   ]
  },
  {
   "cell_type": "markdown",
   "id": "348f4c55",
   "metadata": {},
   "source": [
    "### As we can see there is no linear relation with the l2 regularization. It's more like hyper parameter.\n",
    "### But in general regularization helps in the training"
   ]
  }
 ],
 "metadata": {
  "kernelspec": {
   "display_name": "Python 3 (ipykernel)",
   "language": "python",
   "name": "python3"
  },
  "language_info": {
   "codemirror_mode": {
    "name": "ipython",
    "version": 3
   },
   "file_extension": ".py",
   "mimetype": "text/x-python",
   "name": "python",
   "nbconvert_exporter": "python",
   "pygments_lexer": "ipython3",
   "version": "3.9.15"
  }
 },
 "nbformat": 4,
 "nbformat_minor": 5
}
