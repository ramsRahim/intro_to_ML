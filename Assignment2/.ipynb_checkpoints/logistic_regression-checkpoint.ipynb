{
 "cells": [
  {
   "cell_type": "code",
   "execution_count": 136,
   "id": "ad719afe",
   "metadata": {},
   "outputs": [],
   "source": [
    "import numpy as np\n",
    "import pandas as pd\n",
    "import matplotlib.pyplot as plt\n",
    "\n",
    "# Read in the data from a CSV file\n",
    "iris = pd.read_csv('/Users/rahimhossain/Documents/Data/iris.data.csv',names=['sepal_length', 'sepal_width', 'petal_length','petal_width','class'])\n"
   ]
  },
  {
   "cell_type": "code",
   "execution_count": 137,
   "id": "1d172385",
   "metadata": {},
   "outputs": [],
   "source": [
    "iris = iris[iris['class'].isin(['Iris-setosa', 'Iris-virginica'])]\n",
    "\n",
    "# Create binary class labels for the two flower types\n",
    "iris['class'] = np.where(iris['class'] == 'Iris-setosa', 0, 1)"
   ]
  },
  {
   "cell_type": "code",
   "execution_count": 138,
   "id": "677f6a7c",
   "metadata": {},
   "outputs": [
    {
     "data": {
      "text/html": [
       "<div>\n",
       "<style scoped>\n",
       "    .dataframe tbody tr th:only-of-type {\n",
       "        vertical-align: middle;\n",
       "    }\n",
       "\n",
       "    .dataframe tbody tr th {\n",
       "        vertical-align: top;\n",
       "    }\n",
       "\n",
       "    .dataframe thead th {\n",
       "        text-align: right;\n",
       "    }\n",
       "</style>\n",
       "<table border=\"1\" class=\"dataframe\">\n",
       "  <thead>\n",
       "    <tr style=\"text-align: right;\">\n",
       "      <th></th>\n",
       "      <th>sepal_length</th>\n",
       "      <th>sepal_width</th>\n",
       "      <th>petal_length</th>\n",
       "      <th>petal_width</th>\n",
       "      <th>class</th>\n",
       "    </tr>\n",
       "  </thead>\n",
       "  <tbody>\n",
       "    <tr>\n",
       "      <th>0</th>\n",
       "      <td>5.1</td>\n",
       "      <td>3.5</td>\n",
       "      <td>1.4</td>\n",
       "      <td>0.2</td>\n",
       "      <td>0</td>\n",
       "    </tr>\n",
       "    <tr>\n",
       "      <th>1</th>\n",
       "      <td>4.9</td>\n",
       "      <td>3.0</td>\n",
       "      <td>1.4</td>\n",
       "      <td>0.2</td>\n",
       "      <td>0</td>\n",
       "    </tr>\n",
       "    <tr>\n",
       "      <th>2</th>\n",
       "      <td>4.7</td>\n",
       "      <td>3.2</td>\n",
       "      <td>1.3</td>\n",
       "      <td>0.2</td>\n",
       "      <td>0</td>\n",
       "    </tr>\n",
       "    <tr>\n",
       "      <th>3</th>\n",
       "      <td>4.6</td>\n",
       "      <td>3.1</td>\n",
       "      <td>1.5</td>\n",
       "      <td>0.2</td>\n",
       "      <td>0</td>\n",
       "    </tr>\n",
       "    <tr>\n",
       "      <th>4</th>\n",
       "      <td>5.0</td>\n",
       "      <td>3.6</td>\n",
       "      <td>1.4</td>\n",
       "      <td>0.2</td>\n",
       "      <td>0</td>\n",
       "    </tr>\n",
       "    <tr>\n",
       "      <th>...</th>\n",
       "      <td>...</td>\n",
       "      <td>...</td>\n",
       "      <td>...</td>\n",
       "      <td>...</td>\n",
       "      <td>...</td>\n",
       "    </tr>\n",
       "    <tr>\n",
       "      <th>145</th>\n",
       "      <td>6.7</td>\n",
       "      <td>3.0</td>\n",
       "      <td>5.2</td>\n",
       "      <td>2.3</td>\n",
       "      <td>1</td>\n",
       "    </tr>\n",
       "    <tr>\n",
       "      <th>146</th>\n",
       "      <td>6.3</td>\n",
       "      <td>2.5</td>\n",
       "      <td>5.0</td>\n",
       "      <td>1.9</td>\n",
       "      <td>1</td>\n",
       "    </tr>\n",
       "    <tr>\n",
       "      <th>147</th>\n",
       "      <td>6.5</td>\n",
       "      <td>3.0</td>\n",
       "      <td>5.2</td>\n",
       "      <td>2.0</td>\n",
       "      <td>1</td>\n",
       "    </tr>\n",
       "    <tr>\n",
       "      <th>148</th>\n",
       "      <td>6.2</td>\n",
       "      <td>3.4</td>\n",
       "      <td>5.4</td>\n",
       "      <td>2.3</td>\n",
       "      <td>1</td>\n",
       "    </tr>\n",
       "    <tr>\n",
       "      <th>149</th>\n",
       "      <td>5.9</td>\n",
       "      <td>3.0</td>\n",
       "      <td>5.1</td>\n",
       "      <td>1.8</td>\n",
       "      <td>1</td>\n",
       "    </tr>\n",
       "  </tbody>\n",
       "</table>\n",
       "<p>100 rows × 5 columns</p>\n",
       "</div>"
      ],
      "text/plain": [
       "     sepal_length  sepal_width  petal_length  petal_width  class\n",
       "0             5.1          3.5           1.4          0.2      0\n",
       "1             4.9          3.0           1.4          0.2      0\n",
       "2             4.7          3.2           1.3          0.2      0\n",
       "3             4.6          3.1           1.5          0.2      0\n",
       "4             5.0          3.6           1.4          0.2      0\n",
       "..            ...          ...           ...          ...    ...\n",
       "145           6.7          3.0           5.2          2.3      1\n",
       "146           6.3          2.5           5.0          1.9      1\n",
       "147           6.5          3.0           5.2          2.0      1\n",
       "148           6.2          3.4           5.4          2.3      1\n",
       "149           5.9          3.0           5.1          1.8      1\n",
       "\n",
       "[100 rows x 5 columns]"
      ]
     },
     "execution_count": 138,
     "metadata": {},
     "output_type": "execute_result"
    }
   ],
   "source": [
    "iris"
   ]
  },
  {
   "cell_type": "markdown",
   "id": "76bd9bdb",
   "metadata": {},
   "source": [
    "### plotting the input and output data distribution"
   ]
  },
  {
   "cell_type": "code",
   "execution_count": 139,
   "id": "2c822ec6",
   "metadata": {},
   "outputs": [
    {
     "data": {
      "image/png": "[encoded data removed]",
      "text/plain": [
       "<Figure size 640x480 with 1 Axes>"
      ]
     },
     "metadata": {},
     "output_type": "display_data"
    },
    {
     "data": {
      "image/png": "[encoded data removed]",
      "text/plain": [
       "<Figure size 640x480 with 1 Axes>"
      ]
     },
     "metadata": {},
     "output_type": "display_data"
    }
   ],
   "source": [
    "# Plot the distribution of the input data with colors based on class\n",
    "plt.scatter(iris[iris['class']==0]['sepal_length'], iris[iris['class']==0]['sepal_width'], color='red', label='Iris-setosa')\n",
    "plt.scatter(iris[iris['class']==1]['sepal_length'], iris[iris['class']==1]['sepal_width'], color='blue', label='Iris-virginica')\n",
    "plt.xlabel('Sepal Length')\n",
    "plt.ylabel('Sepal Width')\n",
    "plt.title('Distribution of Input Data')\n",
    "plt.legend()\n",
    "plt.show()\n",
    "\n",
    "# Plot the output data distribution\n",
    "plt.hist(iris['class'].values)\n",
    "plt.xticks([0, 1], ['Iris-setosa', 'Iris-virginica'])\n",
    "plt.xlabel('Class')\n",
    "plt.ylabel('Frequency')\n",
    "plt.title('Output data distribution')\n",
    "plt.show()"
   ]
  },
  {
   "cell_type": "markdown",
   "id": "43fbdf64",
   "metadata": {},
   "source": [
    "Next, let's define the sigmoid function, which will be used as the activation function for the logistic regression model:"
   ]
  },
  {
   "cell_type": "code",
   "execution_count": 140,
   "id": "a14ffb85",
   "metadata": {},
   "outputs": [],
   "source": [
    "def sigmoid(z):\n",
    "    return 1 / (1 + np.exp(-z))\n"
   ]
  },
  {
   "cell_type": "code",
   "execution_count": 141,
   "id": "87063f99",
   "metadata": {},
   "outputs": [],
   "source": [
    "def logistic_regression(x, y, num_iterations, learning_rate):\n",
    "    # Initialize weights and bias\n",
    "    w = np.zeros((x.shape[1], 1))\n",
    "    b = 0\n",
    "    J_history = []\n",
    "    # Gradient descent\n",
    "    for i in range(num_iterations):\n",
    "        z = np.dot(x, w) + b\n",
    "        a = sigmoid(z)  \n",
    "        cost = -1/m * np.sum(y * np.log(a) + (1-y) * np.log(1-a))\n",
    "        dw = 1/m * np.dot(x.T, (a-y))\n",
    "        db = 1/m * np.sum(a-y)\n",
    "        w = w - learning_rate * dw\n",
    "        b = b - learning_rate * db\n",
    "        J_history.append(cost)\n",
    "    # Return weights and bias\n",
    "    return w, b, J_history\n"
   ]
  },
  {
   "cell_type": "code",
   "execution_count": 142,
   "id": "b9c6beb3",
   "metadata": {},
   "outputs": [],
   "source": [
    "# Split data into training and testing sets\n",
    "train_data = iris.sample(frac=0.8, random_state=42)\n",
    "test_data = iris.drop(train_data.index)"
   ]
  },
  {
   "cell_type": "code",
   "execution_count": 143,
   "id": "9fb040ac",
   "metadata": {},
   "outputs": [
    {
     "name": "stdout",
     "output_type": "stream",
     "text": [
      "     sepal_length  sepal_width  petal_length  petal_width  class\n",
      "133           6.3          2.8           5.1          1.5      1\n",
      "103           6.3          2.9           5.6          1.8      1\n",
      "120           6.9          3.2           5.7          2.3      1\n",
      "45            4.8          3.0           1.4          0.3      0\n",
      "44            5.1          3.8           1.9          0.4      0\n",
      "..            ...          ...           ...          ...    ...\n",
      "107           7.3          2.9           6.3          1.8      1\n",
      "125           7.2          3.2           6.0          1.8      1\n",
      "32            5.2          4.1           1.5          0.1      0\n",
      "144           6.7          3.3           5.7          2.5      1\n",
      "109           7.2          3.6           6.1          2.5      1\n",
      "\n",
      "[80 rows x 5 columns]\n",
      "     sepal_length  sepal_width  petal_length  petal_width  class\n",
      "1             4.9          3.0           1.4          0.2      0\n",
      "2             4.7          3.2           1.3          0.2      0\n",
      "14            5.8          4.0           1.2          0.2      0\n",
      "20            5.4          3.4           1.7          0.2      0\n",
      "21            5.1          3.7           1.5          0.4      0\n",
      "23            5.1          3.3           1.7          0.5      0\n",
      "29            4.7          3.2           1.6          0.2      0\n",
      "37            4.9          3.1           1.5          0.1      0\n",
      "101           5.8          2.7           5.1          1.9      1\n",
      "102           7.1          3.0           5.9          2.1      1\n",
      "110           6.5          3.2           5.1          2.0      1\n",
      "113           5.7          2.5           5.0          2.0      1\n",
      "121           5.6          2.8           4.9          2.0      1\n",
      "124           6.7          3.3           5.7          2.1      1\n",
      "132           6.4          2.8           5.6          2.2      1\n",
      "134           6.1          2.6           5.6          1.4      1\n",
      "136           6.3          3.4           5.6          2.4      1\n",
      "137           6.4          3.1           5.5          1.8      1\n",
      "141           6.9          3.1           5.1          2.3      1\n",
      "142           5.8          2.7           5.1          1.9      1\n"
     ]
    }
   ],
   "source": [
    "print(train_data)\n",
    "print(test_data)"
   ]
  },
  {
   "cell_type": "code",
   "execution_count": 144,
   "id": "f062d211",
   "metadata": {},
   "outputs": [],
   "source": [
    "# Prepare the data\n",
    "train_X = train_data[['sepal_length', 'sepal_width']].values\n",
    "train_Y = train_data['class'].values.reshape(-1, 1)\n",
    "test_X = test_data[['sepal_length', 'sepal_width']].values\n",
    "test_Y = test_data['class'].values.reshape(-1, 1)\n",
    "m = train_X.shape[0]\n"
   ]
  },
  {
   "cell_type": "code",
   "execution_count": 130,
   "id": "5ac46dce",
   "metadata": {},
   "outputs": [
    {
     "name": "stdout",
     "output_type": "stream",
     "text": [
      "Test accuracy: 1.0\n"
     ]
    }
   ],
   "source": [
    "# Train the logistic regression model\n",
    "w, b = logistic_regression(train_X, train_Y, num_iterations=1000, learning_rate=0.1)\n",
    "\n",
    "# Make predictions on the test data\n",
    "z = np.dot(test_X, w) + b\n",
    "predictions = sigmoid(z)\n",
    "predictions = np.where(predictions >= 0.5, 1, 0)\n",
    "\n",
    "# Evaluate the model\n",
    "accuracy = np.mean(predictions == test_Y)\n",
    "print('Test accuracy:', accuracy)"
   ]
  },
  {
   "cell_type": "markdown",
   "id": "a4cdd40d",
   "metadata": {},
   "source": [
    "#### updated weights"
   ]
  },
  {
   "cell_type": "code",
   "execution_count": 132,
   "id": "bb45c501",
   "metadata": {},
   "outputs": [
    {
     "name": "stdout",
     "output_type": "stream",
     "text": [
      "[[ 2.91212288]\n",
      " [-4.84140153]]\n"
     ]
    }
   ],
   "source": [
    "print(w)"
   ]
  },
  {
   "cell_type": "code",
   "execution_count": null,
   "id": "872988ea",
   "metadata": {},
   "outputs": [],
   "source": []
  }
 ],
 "metadata": {
  "kernelspec": {
   "display_name": "Python 3 (ipykernel)",
   "language": "python",
   "name": "python3"
  },
  "language_info": {
   "codemirror_mode": {
    "name": "ipython",
    "version": 3
   },
   "file_extension": ".py",
   "mimetype": "text/x-python",
   "name": "python",
   "nbconvert_exporter": "python",
   "pygments_lexer": "ipython3",
   "version": "3.9.15"
  }
 },
 "nbformat": 4,
 "nbformat_minor": 5
}
